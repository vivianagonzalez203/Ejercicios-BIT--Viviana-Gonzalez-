{
 "cells": [
  {
   "cell_type": "markdown",
   "id": "705a225f-b9c5-4168-bea2-6211564a16bc",
   "metadata": {},
   "source": [
    "Actividad "
   ]
  },
  {
   "cell_type": "markdown",
   "id": "e6c3a9e4-ef05-409b-bd98-22a7a6f70dc8",
   "metadata": {},
   "source": [
    "Calcular el area de un cuadrado de lado 4.5 cm"
   ]
  },
  {
   "cell_type": "code",
   "execution_count": 7,
   "id": "288e581b-77ec-4b62-ba71-96b2d91280db",
   "metadata": {},
   "outputs": [
    {
     "name": "stdout",
     "output_type": "stream",
     "text": [
      "Area: 20.25cm^2\n"
     ]
    }
   ],
   "source": [
    "lado = 4.5\n",
    "area = lado * lado \n",
    "print (f\"Area: {area}cm^2\")"
   ]
  },
  {
   "cell_type": "markdown",
   "id": "4406b1b7-8428-4eb0-92f6-5d7f81188acf",
   "metadata": {},
   "source": [
    "Calcular el costo total de comprar 35 porciones de pizza si una porcion cuesta $6000"
   ]
  },
  {
   "cell_type": "code",
   "execution_count": 13,
   "id": "5694d828-0e4b-4730-b286-e76ebc8dd638",
   "metadata": {},
   "outputs": [
    {
     "name": "stdout",
     "output_type": "stream",
     "text": [
      "Total: $210000\n"
     ]
    }
   ],
   "source": [
    "Porcion_pizza= 6000\n",
    "Total= Porcion_pizza * 35\n",
    "print (f\"Total: ${Total}\")"
   ]
  },
  {
   "cell_type": "code",
   "execution_count": null,
   "id": "0ea27ed5-6983-4aa3-8ec6-697c33d5c0fa",
   "metadata": {},
   "outputs": [],
   "source": [
    "Calcular el resultado de multiplicar dos numeros ingresados por el usuario"
   ]
  },
  {
   "cell_type": "code",
   "execution_count": 1,
   "id": "019c688e-1e27-4c98-b31e-985f7be5b59a",
   "metadata": {},
   "outputs": [
    {
     "name": "stdin",
     "output_type": "stream",
     "text": [
      "ingrese un numero:  23\n",
      "ingrese un numero:  14.6\n"
     ]
    },
    {
     "name": "stdout",
     "output_type": "stream",
     "text": [
      "Su resultado es: 335.8\n"
     ]
    }
   ],
   "source": [
    "Num1= float(input (\"ingrese un numero: \"))\n",
    "Num2= float(input (\"ingrese un numero: \"))\n",
    "Resultado = Num1 * Num2\n",
    "print (f\"Su resultado es: {Resultado}\")"
   ]
  },
  {
   "cell_type": "code",
   "execution_count": null,
   "id": "728ba72f-7030-4670-b81c-55ba1b704f87",
   "metadata": {},
   "outputs": [],
   "source": []
  },
  {
   "cell_type": "code",
   "execution_count": null,
   "id": "07fc9274-1697-4fa8-972e-c92d44999c7a",
   "metadata": {},
   "outputs": [],
   "source": []
  },
  {
   "cell_type": "markdown",
   "id": "da82df21-632d-45d7-acdf-c3ee0b09c7b0",
   "metadata": {},
   "source": [
    "Actividad 1"
   ]
  },
  {
   "cell_type": "markdown",
   "id": "10e96bf4-0fe9-437f-b9ae-26b1344d9496",
   "metadata": {},
   "source": [
    "Inventario inicial:"
   ]
  },
  {
   "cell_type": "code",
   "execution_count": 16,
   "id": "aef1007c-08af-468c-842b-9944b85a7956",
   "metadata": {},
   "outputs": [
    {
     "name": "stdout",
     "output_type": "stream",
     "text": [
      "[{'producto': 'camisa', 'precio': 25900, 'stock': '11'}, {'producto': 'pantalón', 'precio': 39900, 'stock': '23'}]\n"
     ]
    }
   ],
   "source": [
    "inventario = [\n",
    "    {\"producto\": \"camisa\", \"precio\": 25900, \"stock\": \"11\"},\n",
    "    {\"producto\": \"pantalón\", \"precio\": 39900, \"stock\": \"23\"},\n",
    "]\n",
    "print (inventario)"
   ]
  },
  {
   "cell_type": "markdown",
   "id": "474c0b44-ba3e-4d1f-9af8-c2204cb6e273",
   "metadata": {},
   "source": [
    "Añade un nuevo producto al inventario con las siguientes caracteristicas:\n",
    "{\"producto\": \"abrigo\", \"precio\": 50000, \"stock\": \"2\"}"
   ]
  },
  {
   "cell_type": "code",
   "execution_count": 22,
   "id": "d0c6a29c-b77a-47d1-b4a3-e8e6415af4a6",
   "metadata": {},
   "outputs": [
    {
     "name": "stdout",
     "output_type": "stream",
     "text": [
      "[{'producto': 'camisa', 'precio': 35900, 'stock': 11}, {'producto': 'pantalón', 'precio': 49900, 'stock': 23}, {'producto': 'abrigo', 'precio': 60000, 'stock': 2}, {'producto': 'abrigo', 'precio': 50000, 'stock': '2'}]\n"
     ]
    }
   ],
   "source": [
    "nuevo_producto = {\"producto\": \"abrigo\",\n",
    "                  \"precio\": 50000, \n",
    "                  \"stock\": \"2\"}\n",
    "inventario.append (nuevo_producto)\n",
    "print (f\"{inventario}\")"
   ]
  },
  {
   "cell_type": "markdown",
   "id": "ca22ccfe-4efd-4fce-9d89-531d9d24c3c6",
   "metadata": {},
   "source": [
    "Convierte los valores del stock en numeros enteros"
   ]
  },
  {
   "cell_type": "code",
   "execution_count": 30,
   "id": "c83c129c-c80a-4ca7-b40f-9d7bce7fbf52",
   "metadata": {},
   "outputs": [],
   "source": [
    "def cambiar_stock (diccionario):\n",
    "    diccionario [\"stock\"] = int (diccionario.get (\"stock\"))\n",
    "    return diccionario\n",
    "    \n",
    "    nuevo_inventario = list(map(cambiar_stock,diccionario))\n"
   ]
  },
  {
   "cell_type": "code",
   "execution_count": 31,
   "id": "dc5c5b81-ce6b-47ad-8347-829e3b62ab17",
   "metadata": {},
   "outputs": [
    {
     "name": "stdout",
     "output_type": "stream",
     "text": [
      "[{'producto': 'camisa', 'precio': 35900, 'stock': 11}, {'producto': 'pantalón', 'precio': 49900, 'stock': 23}, {'producto': 'abrigo', 'precio': 60000, 'stock': 2}, {'producto': 'abrigo', 'precio': 50000, 'stock': '2'}]\n"
     ]
    }
   ],
   "source": [
    "print (inventario)"
   ]
  },
  {
   "cell_type": "code",
   "execution_count": 19,
   "id": "86085bb5-f263-4941-bd4d-a9c4082c6a16",
   "metadata": {},
   "outputs": [
    {
     "name": "stdout",
     "output_type": "stream",
     "text": [
      "[{'producto': 'camisa', 'precio': 25900, 'stock': 11}, {'producto': 'pantalón', 'precio': 39900, 'stock': 23}, {'producto': 'abrigo', 'precio': 50000, 'stock': 2}]\n"
     ]
    }
   ],
   "source": [
    "inventario = list(map(lambda item: {**item, \"stock\": int(item[\"stock\"])}, inventario))\n",
    "print(inventario)"
   ]
  },
  {
   "cell_type": "code",
   "execution_count": null,
   "id": "14d4cc1b-899f-4a91-b39c-4fe8fc07a07f",
   "metadata": {},
   "outputs": [],
   "source": [
    "Actualiza el precio de cada producto sumando 10000 al precio original"
   ]
  },
  {
   "cell_type": "code",
   "execution_count": 20,
   "id": "97fb4f28-8dec-4268-9fb0-e1394bd8a791",
   "metadata": {},
   "outputs": [
    {
     "name": "stdout",
     "output_type": "stream",
     "text": [
      "[{'producto': 'camisa', 'precio': 35900, 'stock': 11}, {'producto': 'pantalón', 'precio': 49900, 'stock': 23}, {'producto': 'abrigo', 'precio': 60000, 'stock': 2}]\n"
     ]
    }
   ],
   "source": [
    "inventario = list(map(lambda item: {**item, \"precio\": item[\"precio\"] + 10000}, inventario))\n",
    "print(inventario)"
   ]
  },
  {
   "cell_type": "code",
   "execution_count": null,
   "id": "ab8e3162-7eaa-4de1-b7d8-4e04afd6a97c",
   "metadata": {},
   "outputs": [],
   "source": [
    "Imprime cada producto del inventario y sus caracteristicas con el siguiente formato:\n",
    "print(f\"Hay {stock} unidades del producto {producto}. Su precio por unidad es de {precio}\")"
   ]
  },
  {
   "cell_type": "code",
   "execution_count": 32,
   "id": "40b9bb55-41b2-4fbd-82ee-5193ea9d262a",
   "metadata": {},
   "outputs": [
    {
     "name": "stdout",
     "output_type": "stream",
     "text": [
      "Hay 11 unidades del producto camisa. Su precio por unidad es de 25900\n",
      "Hay 23 unidades del producto pantalón. Su precio por unidad es de 39900\n",
      "Hay 2 unidades del producto abrigo. Su precio por unidad es de 50000\n",
      "Hay 2 unidades del producto abrigo. Su precio por unidad es de 40000\n"
     ]
    },
    {
     "data": {
      "text/plain": [
       "[{'producto': 'camisa', 'precio': 25900, 'stock': 11},\n",
       " {'producto': 'pantalón', 'precio': 39900, 'stock': 23},\n",
       " {'producto': 'abrigo', 'precio': 50000, 'stock': 2},\n",
       " {'producto': 'abrigo', 'precio': 40000, 'stock': 2}]"
      ]
     },
     "execution_count": 32,
     "metadata": {},
     "output_type": "execute_result"
    }
   ],
   "source": [
    "for prod in inventario:\n",
    "  prod['stock'] = int(prod.get(\"stock\"))\n",
    "  prod['precio'] = prod['precio'] - 10000\n",
    "  stock = prod['stock']\n",
    "  producto = prod['producto']\n",
    "  precio = prod['precio']\n",
    "  print(f\"Hay {stock} unidades del producto {producto}. Su precio por unidad es de {precio}\")\n",
    "inventario"
   ]
  },
  {
   "cell_type": "code",
   "execution_count": null,
   "id": "beec170f-a875-4e11-8acc-64cacfe99814",
   "metadata": {},
   "outputs": [],
   "source": []
  }
 ],
 "metadata": {
  "kernelspec": {
   "display_name": "Python [conda env:base] *",
   "language": "python",
   "name": "conda-base-py"
  },
  "language_info": {
   "codemirror_mode": {
    "name": "ipython",
    "version": 3
   },
   "file_extension": ".py",
   "mimetype": "text/x-python",
   "name": "python",
   "nbconvert_exporter": "python",
   "pygments_lexer": "ipython3",
   "version": "3.13.5"
  }
 },
 "nbformat": 4,
 "nbformat_minor": 5
}
