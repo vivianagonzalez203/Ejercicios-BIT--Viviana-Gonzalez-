{
 "cells": [
  {
   "cell_type": "markdown",
   "id": "ac186f93-0d0d-4587-bfb5-4cab805b56b1",
   "metadata": {},
   "source": [
    "Parte 1: Bucle for con edades"
   ]
  },
  {
   "cell_type": "markdown",
   "id": "b0440be8-109d-4754-b64e-63d233333474",
   "metadata": {},
   "source": [
    "Crea una lista de edades: [12, 17, 8, 15, 22, 9, 30, 25]."
   ]
  },
  {
   "cell_type": "code",
   "execution_count": 3,
   "id": "e0b40fd6-f8c3-4c69-b822-e03952945752",
   "metadata": {},
   "outputs": [
    {
     "name": "stdout",
     "output_type": "stream",
     "text": [
      "<class 'list'>\n"
     ]
    }
   ],
   "source": [
    "Edades = [12, 17, 8, 15, 22, 9, 30, 25]\n",
    "print(type(Edades))"
   ]
  },
  {
   "cell_type": "markdown",
   "id": "13c71d21-3d8a-4152-a275-9f16d42da591",
   "metadata": {},
   "source": [
    "Usa un bucle for para iterar sobre cada edad:"
   ]
  },
  {
   "cell_type": "markdown",
   "id": "384b0513-e095-443b-94ee-68f9bd69b60a",
   "metadata": {},
   "source": [
    "Si la edad es 25, imprime \"¡Encontramos al estudiante de 25 años! Deteniendo el análisis.\" y termina el bucle con break.\n",
    "Si la edad es menor a 10, omite esa iteración con continue.\n",
    "Si la edad es 18 o mayor, imprime \"Adulto: [edad] años\".\n",
    "En cualquier otro caso, imprime \"Menor: [edad] años\"."
   ]
  },
  {
   "cell_type": "code",
   "execution_count": 4,
   "id": "a6103a59-797c-4b37-bd88-4852af1c8f8a",
   "metadata": {},
   "outputs": [
    {
     "name": "stdout",
     "output_type": "stream",
     "text": [
      "Menor: 12 años\n",
      "Menor: 17 años\n",
      "Menor: 15 años\n",
      "Adulto: 22 años\n",
      "Adulto: 30 años\n",
      "¡Encontramos al estudiante de 25 años! Deteniendo el análisis.\n"
     ]
    }
   ],
   "source": [
    "for edad in Edades:\n",
    "    if edad == 25:\n",
    "        print(\"¡Encontramos al estudiante de 25 años! Deteniendo el análisis.\")\n",
    "        break\n",
    "    elif edad < 10:\n",
    "        continue\n",
    "    elif edad >= 18:\n",
    "        print(f\"Adulto: {edad} años\")\n",
    "    else:\n",
    "        print(f\"Menor: {edad} años\")"
   ]
  },
  {
   "cell_type": "markdown",
   "id": "1bdd5ad7-2681-411a-b28d-11b93e284155",
   "metadata": {},
   "source": [
    "Parte 2: Bucle while con nombres"
   ]
  },
  {
   "cell_type": "markdown",
   "id": "c5d56495-b141-43f8-9a72-5af112968d3c",
   "metadata": {},
   "source": [
    "Crea una lista de nombres: [\"Juan\", \"Pedro\", \"Jorge\", \"María\",\"Ana\"]."
   ]
  },
  {
   "cell_type": "code",
   "execution_count": 5,
   "id": "f09d9b04-eeb4-4267-828e-4cde9e68efb3",
   "metadata": {},
   "outputs": [],
   "source": [
    "nombres = [\"Juan\", \"Pedro\", \"Jorge\", \"María\",\"Ana\"]"
   ]
  },
  {
   "cell_type": "markdown",
   "id": "8dd9c961-7fdf-4c14-8ab3-f35102780bdf",
   "metadata": {},
   "source": [
    "Si el nombre es \"Ana\", imprime \"¡Ana está en la lista!\" y termina el bucle con break.\n",
    "Si el nombre empieza con \"J\", omite ese nombre con continue.\n",
    "En cualquier otro caso, imprime el nombre."
   ]
  },
  {
   "cell_type": "code",
   "execution_count": 6,
   "id": "fb90755c-ce43-4c04-b6b9-26d434c4722e",
   "metadata": {},
   "outputs": [
    {
     "name": "stdout",
     "output_type": "stream",
     "text": [
      "Pedro\n",
      "María\n",
      "¡Ana está en la lista!\n"
     ]
    }
   ],
   "source": [
    "i = 0\n",
    "\n",
    "while i < len(nombres):\n",
    "    nombre = nombres[i]\n",
    "\n",
    "    if nombre == \"Ana\":\n",
    "        print(\"¡Ana está en la lista!\")\n",
    "        break\n",
    "\n",
    "    if nombre.startswith(\"J\"):\n",
    "        i += 1\n",
    "        continue\n",
    "\n",
    "    print(nombre)\n",
    "\n",
    "    i += 1\n"
   ]
  },
  {
   "cell_type": "code",
   "execution_count": null,
   "id": "40189388-a15b-4fee-9b3c-4779f2b98475",
   "metadata": {},
   "outputs": [],
   "source": []
  }
 ],
 "metadata": {
  "kernelspec": {
   "display_name": "Python [conda env:base] *",
   "language": "python",
   "name": "conda-base-py"
  },
  "language_info": {
   "codemirror_mode": {
    "name": "ipython",
    "version": 3
   },
   "file_extension": ".py",
   "mimetype": "text/x-python",
   "name": "python",
   "nbconvert_exporter": "python",
   "pygments_lexer": "ipython3",
   "version": "3.13.5"
  }
 },
 "nbformat": 4,
 "nbformat_minor": 5
}
